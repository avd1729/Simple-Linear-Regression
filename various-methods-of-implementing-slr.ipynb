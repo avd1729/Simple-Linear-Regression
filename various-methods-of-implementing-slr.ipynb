{
 "cells": [
  {
   "cell_type": "markdown",
   "id": "f914f5de",
   "metadata": {
    "papermill": {
     "duration": 0.006696,
     "end_time": "2023-04-15T15:01:22.151203",
     "exception": false,
     "start_time": "2023-04-15T15:01:22.144507",
     "status": "completed"
    },
    "tags": []
   },
   "source": [
    "# **VARIOUS METHODS OF IMPLEMENTING SIMPLE LINEAR REGRESSION**"
   ]
  },
  {
   "cell_type": "markdown",
   "id": "7e4f01e3",
   "metadata": {
    "papermill": {
     "duration": 0.0067,
     "end_time": "2023-04-15T15:01:22.163898",
     "exception": false,
     "start_time": "2023-04-15T15:01:22.157198",
     "status": "completed"
    },
    "tags": []
   },
   "source": [
    "# **Setting up the environment**"
   ]
  },
  {
   "cell_type": "code",
   "execution_count": 1,
   "id": "3a3920b6",
   "metadata": {
    "execution": {
     "iopub.execute_input": "2023-04-15T15:01:22.179353Z",
     "iopub.status.busy": "2023-04-15T15:01:22.178756Z",
     "iopub.status.idle": "2023-04-15T15:01:22.192467Z",
     "shell.execute_reply": "2023-04-15T15:01:22.191258Z"
    },
    "papermill": {
     "duration": 0.024602,
     "end_time": "2023-04-15T15:01:22.195122",
     "exception": false,
     "start_time": "2023-04-15T15:01:22.170520",
     "status": "completed"
    },
    "tags": []
   },
   "outputs": [],
   "source": [
    "import numpy as np\n"
   ]
  },
  {
   "cell_type": "code",
   "execution_count": 2,
   "id": "5e6eb069",
   "metadata": {
    "execution": {
     "iopub.execute_input": "2023-04-15T15:01:22.210720Z",
     "iopub.status.busy": "2023-04-15T15:01:22.209660Z",
     "iopub.status.idle": "2023-04-15T15:01:22.218634Z",
     "shell.execute_reply": "2023-04-15T15:01:22.216468Z"
    },
    "papermill": {
     "duration": 0.022717,
     "end_time": "2023-04-15T15:01:22.223579",
     "exception": false,
     "start_time": "2023-04-15T15:01:22.200862",
     "status": "completed"
    },
    "tags": []
   },
   "outputs": [],
   "source": [
    "np.random.seed(42)\n",
    "m = 100\n",
    "X = 2 * np.random.rand(m,1)\n",
    "y = 4 + 3 * X + np.random.randn(m,1)"
   ]
  },
  {
   "cell_type": "code",
   "execution_count": 3,
   "id": "27293a3c",
   "metadata": {
    "execution": {
     "iopub.execute_input": "2023-04-15T15:01:22.237934Z",
     "iopub.status.busy": "2023-04-15T15:01:22.237325Z",
     "iopub.status.idle": "2023-04-15T15:01:22.644560Z",
     "shell.execute_reply": "2023-04-15T15:01:22.643378Z"
    },
    "papermill": {
     "duration": 0.417314,
     "end_time": "2023-04-15T15:01:22.647783",
     "exception": false,
     "start_time": "2023-04-15T15:01:22.230469",
     "status": "completed"
    },
    "tags": []
   },
   "outputs": [
    {
     "data": {
      "image/png": "[encoded data removed]",
      "text/plain": [
       "<Figure size 600x400 with 1 Axes>"
      ]
     },
     "metadata": {},
     "output_type": "display_data"
    }
   ],
   "source": [
    "import matplotlib.pyplot as plt\n",
    "\n",
    "plt.figure(figsize=(6, 4))\n",
    "plt.plot(X, y, \"b.\")\n",
    "plt.xlabel(\"$x_1$\")\n",
    "plt.ylabel(\"$y$\", rotation=0)\n",
    "plt.axis([0, 2, 0, 15])\n",
    "plt.grid()\n",
    "plt.show()"
   ]
  },
  {
   "cell_type": "code",
   "execution_count": 4,
   "id": "b329171b",
   "metadata": {
    "execution": {
     "iopub.execute_input": "2023-04-15T15:01:22.661788Z",
     "iopub.status.busy": "2023-04-15T15:01:22.660602Z",
     "iopub.status.idle": "2023-04-15T15:01:22.667049Z",
     "shell.execute_reply": "2023-04-15T15:01:22.666160Z"
    },
    "papermill": {
     "duration": 0.015535,
     "end_time": "2023-04-15T15:01:22.669146",
     "exception": false,
     "start_time": "2023-04-15T15:01:22.653611",
     "status": "completed"
    },
    "tags": []
   },
   "outputs": [
    {
     "data": {
      "text/plain": [
       "(100, 1)"
      ]
     },
     "execution_count": 4,
     "metadata": {},
     "output_type": "execute_result"
    }
   ],
   "source": [
    "X.shape"
   ]
  },
  {
   "cell_type": "code",
   "execution_count": 5,
   "id": "58b70331",
   "metadata": {
    "execution": {
     "iopub.execute_input": "2023-04-15T15:01:22.683003Z",
     "iopub.status.busy": "2023-04-15T15:01:22.681936Z",
     "iopub.status.idle": "2023-04-15T15:01:22.688153Z",
     "shell.execute_reply": "2023-04-15T15:01:22.687328Z"
    },
    "papermill": {
     "duration": 0.01547,
     "end_time": "2023-04-15T15:01:22.690350",
     "exception": false,
     "start_time": "2023-04-15T15:01:22.674880",
     "status": "completed"
    },
    "tags": []
   },
   "outputs": [
    {
     "data": {
      "text/plain": [
       "(100, 1)"
      ]
     },
     "execution_count": 5,
     "metadata": {},
     "output_type": "execute_result"
    }
   ],
   "source": [
    "y.shape"
   ]
  },
  {
   "cell_type": "markdown",
   "id": "13ffe6b3",
   "metadata": {
    "papermill": {
     "duration": 0.005866,
     "end_time": "2023-04-15T15:01:22.702192",
     "exception": false,
     "start_time": "2023-04-15T15:01:22.696326",
     "status": "completed"
    },
    "tags": []
   },
   "source": [
    "# **1.From Scratch**"
   ]
  },
  {
   "cell_type": "code",
   "execution_count": 6,
   "id": "0ea9c024",
   "metadata": {
    "execution": {
     "iopub.execute_input": "2023-04-15T15:01:22.716061Z",
     "iopub.status.busy": "2023-04-15T15:01:22.715370Z",
     "iopub.status.idle": "2023-04-15T15:01:22.724492Z",
     "shell.execute_reply": "2023-04-15T15:01:22.723663Z"
    },
    "papermill": {
     "duration": 0.01917,
     "end_time": "2023-04-15T15:01:22.727169",
     "exception": false,
     "start_time": "2023-04-15T15:01:22.707999",
     "status": "completed"
    },
    "tags": []
   },
   "outputs": [
    {
     "name": "stdout",
     "output_type": "stream",
     "text": [
      "[4.21509616] [2.77011339]\n"
     ]
    }
   ],
   "source": [
    "mean_x = np.mean(X)\n",
    "mean_y = np.mean(y)\n",
    " \n",
    "n = len(X)\n",
    "\n",
    "numer = 0\n",
    "denom = 0\n",
    "for i in range(n):\n",
    "    numer += (X[i] - mean_x) * (y[i] - mean_y)\n",
    "    denom += (X[i] - mean_x) ** 2\n",
    "    m = numer / denom\n",
    "    c = mean_y - (m * mean_x)\n",
    "\n",
    "print(c, m)"
   ]
  },
  {
   "cell_type": "markdown",
   "id": "b09553e2",
   "metadata": {
    "papermill": {
     "duration": 0.005504,
     "end_time": "2023-04-15T15:01:22.738667",
     "exception": false,
     "start_time": "2023-04-15T15:01:22.733163",
     "status": "completed"
    },
    "tags": []
   },
   "source": [
    "# **2.Using Normal equation**"
   ]
  },
  {
   "cell_type": "code",
   "execution_count": 7,
   "id": "3171e3f1",
   "metadata": {
    "execution": {
     "iopub.execute_input": "2023-04-15T15:01:22.752499Z",
     "iopub.status.busy": "2023-04-15T15:01:22.751771Z",
     "iopub.status.idle": "2023-04-15T15:01:23.785334Z",
     "shell.execute_reply": "2023-04-15T15:01:23.784288Z"
    },
    "papermill": {
     "duration": 1.04398,
     "end_time": "2023-04-15T15:01:23.788279",
     "exception": false,
     "start_time": "2023-04-15T15:01:22.744299",
     "status": "completed"
    },
    "tags": []
   },
   "outputs": [],
   "source": [
    "from sklearn.preprocessing import add_dummy_feature\n",
    "X_b = add_dummy_feature(X)\n"
   ]
  },
  {
   "cell_type": "code",
   "execution_count": 8,
   "id": "94f765a9",
   "metadata": {
    "execution": {
     "iopub.execute_input": "2023-04-15T15:01:23.803679Z",
     "iopub.status.busy": "2023-04-15T15:01:23.802941Z",
     "iopub.status.idle": "2023-04-15T15:01:23.812563Z",
     "shell.execute_reply": "2023-04-15T15:01:23.811230Z"
    },
    "papermill": {
     "duration": 0.021259,
     "end_time": "2023-04-15T15:01:23.816621",
     "exception": false,
     "start_time": "2023-04-15T15:01:23.795362",
     "status": "completed"
    },
    "tags": []
   },
   "outputs": [
    {
     "data": {
      "text/plain": [
       "array([[4.21509616],\n",
       "       [2.77011339]])"
      ]
     },
     "execution_count": 8,
     "metadata": {},
     "output_type": "execute_result"
    }
   ],
   "source": [
    "theta_best = np.linalg.inv(X_b.T @ X_b) @ X_b.T @ y\n",
    "theta_best"
   ]
  },
  {
   "cell_type": "markdown",
   "id": "a1f8f625",
   "metadata": {
    "papermill": {
     "duration": 0.005816,
     "end_time": "2023-04-15T15:01:23.834247",
     "exception": false,
     "start_time": "2023-04-15T15:01:23.828431",
     "status": "completed"
    },
    "tags": []
   },
   "source": [
    "# **3.Using Scikit-Learn**"
   ]
  },
  {
   "cell_type": "code",
   "execution_count": 9,
   "id": "a4ccc53f",
   "metadata": {
    "execution": {
     "iopub.execute_input": "2023-04-15T15:01:23.849215Z",
     "iopub.status.busy": "2023-04-15T15:01:23.848416Z",
     "iopub.status.idle": "2023-04-15T15:01:24.022070Z",
     "shell.execute_reply": "2023-04-15T15:01:24.020589Z"
    },
    "papermill": {
     "duration": 0.184574,
     "end_time": "2023-04-15T15:01:24.024954",
     "exception": false,
     "start_time": "2023-04-15T15:01:23.840380",
     "status": "completed"
    },
    "tags": []
   },
   "outputs": [
    {
     "data": {
      "text/plain": [
       "(array([4.21509616]), array([[2.77011339]]))"
      ]
     },
     "execution_count": 9,
     "metadata": {},
     "output_type": "execute_result"
    }
   ],
   "source": [
    "from sklearn.linear_model import LinearRegression\n",
    "\n",
    "lin_reg = LinearRegression()\n",
    "lin_reg.fit(X, y)\n",
    "lin_reg.intercept_, lin_reg.coef_"
   ]
  },
  {
   "cell_type": "markdown",
   "id": "5946e7ad",
   "metadata": {
    "papermill": {
     "duration": 0.00588,
     "end_time": "2023-04-15T15:01:24.037275",
     "exception": false,
     "start_time": "2023-04-15T15:01:24.031395",
     "status": "completed"
    },
    "tags": []
   },
   "source": [
    "# **4.Least Squares Estimator**"
   ]
  },
  {
   "cell_type": "code",
   "execution_count": 10,
   "id": "2a311433",
   "metadata": {
    "execution": {
     "iopub.execute_input": "2023-04-15T15:01:24.051511Z",
     "iopub.status.busy": "2023-04-15T15:01:24.051063Z",
     "iopub.status.idle": "2023-04-15T15:01:24.058764Z",
     "shell.execute_reply": "2023-04-15T15:01:24.057871Z"
    },
    "papermill": {
     "duration": 0.017493,
     "end_time": "2023-04-15T15:01:24.060843",
     "exception": false,
     "start_time": "2023-04-15T15:01:24.043350",
     "status": "completed"
    },
    "tags": []
   },
   "outputs": [
    {
     "data": {
      "text/plain": [
       "array([[4.21509616],\n",
       "       [2.77011339]])"
      ]
     },
     "execution_count": 10,
     "metadata": {},
     "output_type": "execute_result"
    }
   ],
   "source": [
    "theta_best , residuals ,rank , s = np.linalg.lstsq(X_b , y , rcond=1e-6)\n",
    "theta_best"
   ]
  },
  {
   "cell_type": "markdown",
   "id": "d39639a6",
   "metadata": {
    "papermill": {
     "duration": 0.005867,
     "end_time": "2023-04-15T15:01:24.072947",
     "exception": false,
     "start_time": "2023-04-15T15:01:24.067080",
     "status": "completed"
    },
    "tags": []
   },
   "source": [
    "# **5.Moore-Penrose inverse**"
   ]
  },
  {
   "cell_type": "code",
   "execution_count": 11,
   "id": "695cae85",
   "metadata": {
    "execution": {
     "iopub.execute_input": "2023-04-15T15:01:24.086966Z",
     "iopub.status.busy": "2023-04-15T15:01:24.086533Z",
     "iopub.status.idle": "2023-04-15T15:01:24.094161Z",
     "shell.execute_reply": "2023-04-15T15:01:24.092999Z"
    },
    "papermill": {
     "duration": 0.017794,
     "end_time": "2023-04-15T15:01:24.096747",
     "exception": false,
     "start_time": "2023-04-15T15:01:24.078953",
     "status": "completed"
    },
    "tags": []
   },
   "outputs": [
    {
     "data": {
      "text/plain": [
       "array([[4.21509616],\n",
       "       [2.77011339]])"
      ]
     },
     "execution_count": 11,
     "metadata": {},
     "output_type": "execute_result"
    }
   ],
   "source": [
    "theta_best = np.linalg.pinv(X_b)@y\n",
    "theta_best"
   ]
  },
  {
   "cell_type": "markdown",
   "id": "7b373253",
   "metadata": {
    "papermill": {
     "duration": 0.006246,
     "end_time": "2023-04-15T15:01:24.109524",
     "exception": false,
     "start_time": "2023-04-15T15:01:24.103278",
     "status": "completed"
    },
    "tags": []
   },
   "source": [
    "# **6.OLS using statsmodels.api**"
   ]
  },
  {
   "cell_type": "code",
   "execution_count": 12,
   "id": "b16457da",
   "metadata": {
    "execution": {
     "iopub.execute_input": "2023-04-15T15:01:24.125339Z",
     "iopub.status.busy": "2023-04-15T15:01:24.124038Z",
     "iopub.status.idle": "2023-04-15T15:01:25.563274Z",
     "shell.execute_reply": "2023-04-15T15:01:25.562017Z"
    },
    "papermill": {
     "duration": 1.449742,
     "end_time": "2023-04-15T15:01:25.565884",
     "exception": false,
     "start_time": "2023-04-15T15:01:24.116142",
     "status": "completed"
    },
    "tags": []
   },
   "outputs": [
    {
     "data": {
      "text/plain": [
       "array([4.21509616, 2.77011339])"
      ]
     },
     "execution_count": 12,
     "metadata": {},
     "output_type": "execute_result"
    }
   ],
   "source": [
    "import statsmodels.api as sm\n",
    "X_b = sm.add_constant(X)\n",
    "lm = sm.OLS(y,X_b).fit()\n",
    "lm.params"
   ]
  },
  {
   "cell_type": "code",
   "execution_count": 13,
   "id": "70bcf8d0",
   "metadata": {
    "execution": {
     "iopub.execute_input": "2023-04-15T15:01:25.581318Z",
     "iopub.status.busy": "2023-04-15T15:01:25.580142Z",
     "iopub.status.idle": "2023-04-15T15:01:25.625285Z",
     "shell.execute_reply": "2023-04-15T15:01:25.622859Z"
    },
    "papermill": {
     "duration": 0.056106,
     "end_time": "2023-04-15T15:01:25.628431",
     "exception": false,
     "start_time": "2023-04-15T15:01:25.572325",
     "status": "completed"
    },
    "tags": []
   },
   "outputs": [
    {
     "data": {
      "text/html": [
       "<table class=\"simpletable\">\n",
       "<tr>\n",
       "        <td>Model:</td>               <td>OLS</td>         <td>Adj. R-squared:</td>     <td>0.767</td> \n",
       "</tr>\n",
       "<tr>\n",
       "  <td>Dependent Variable:</td>         <td>y</td>               <td>AIC:</td>         <td>266.2931</td>\n",
       "</tr>\n",
       "<tr>\n",
       "         <td>Date:</td>        <td>2023-04-15 15:01</td>        <td>BIC:</td>         <td>271.5034</td>\n",
       "</tr>\n",
       "<tr>\n",
       "   <td>No. Observations:</td>         <td>100</td>         <td>Log-Likelihood:</td>    <td>-131.15</td>\n",
       "</tr>\n",
       "<tr>\n",
       "       <td>Df Model:</td>              <td>1</td>           <td>F-statistic:</td>       <td>326.7</td> \n",
       "</tr>\n",
       "<tr>\n",
       "     <td>Df Residuals:</td>           <td>98</td>        <td>Prob (F-statistic):</td> <td>5.66e-33</td>\n",
       "</tr>\n",
       "<tr>\n",
       "      <td>R-squared:</td>            <td>0.769</td>            <td>Scale:</td>         <td>0.82305</td>\n",
       "</tr>\n",
       "</table>\n",
       "<table class=\"simpletable\">\n",
       "<tr>\n",
       "    <td></td>     <th>Coef.</th> <th>Std.Err.</th>    <th>t</th>     <th>P>|t|</th> <th>[0.025</th> <th>0.975]</th>\n",
       "</tr>\n",
       "<tr>\n",
       "  <th>const</th> <td>4.2151</td>  <td>0.1703</td>  <td>24.7530</td> <td>0.0000</td> <td>3.8772</td> <td>4.5530</td>\n",
       "</tr>\n",
       "<tr>\n",
       "  <th>x1</th>    <td>2.7701</td>  <td>0.1532</td>  <td>18.0761</td> <td>0.0000</td> <td>2.4660</td> <td>3.0742</td>\n",
       "</tr>\n",
       "</table>\n",
       "<table class=\"simpletable\">\n",
       "<tr>\n",
       "     <td>Omnibus:</td>    <td>0.900</td>  <td>Durbin-Watson:</td>   <td>2.285</td>\n",
       "</tr>\n",
       "<tr>\n",
       "  <td>Prob(Omnibus):</td> <td>0.638</td> <td>Jarque-Bera (JB):</td> <td>0.808</td>\n",
       "</tr>\n",
       "<tr>\n",
       "       <td>Skew:</td>     <td>0.217</td>     <td>Prob(JB):</td>     <td>0.668</td>\n",
       "</tr>\n",
       "<tr>\n",
       "     <td>Kurtosis:</td>   <td>2.929</td>  <td>Condition No.:</td>     <td>3</td>  \n",
       "</tr>\n",
       "</table>"
      ],
      "text/plain": [
       "<class 'statsmodels.iolib.summary2.Summary'>\n",
       "\"\"\"\n",
       "                 Results: Ordinary least squares\n",
       "=================================================================\n",
       "Model:              OLS              Adj. R-squared:     0.767   \n",
       "Dependent Variable: y                AIC:                266.2931\n",
       "Date:               2023-04-15 15:01 BIC:                271.5034\n",
       "No. Observations:   100              Log-Likelihood:     -131.15 \n",
       "Df Model:           1                F-statistic:        326.7   \n",
       "Df Residuals:       98               Prob (F-statistic): 5.66e-33\n",
       "R-squared:          0.769            Scale:              0.82305 \n",
       "--------------------------------------------------------------------\n",
       "         Coef.     Std.Err.       t       P>|t|     [0.025    0.975]\n",
       "--------------------------------------------------------------------\n",
       "const    4.2151      0.1703    24.7530    0.0000    3.8772    4.5530\n",
       "x1       2.7701      0.1532    18.0761    0.0000    2.4660    3.0742\n",
       "-----------------------------------------------------------------\n",
       "Omnibus:              0.900        Durbin-Watson:           2.285\n",
       "Prob(Omnibus):        0.638        Jarque-Bera (JB):        0.808\n",
       "Skew:                 0.217        Prob(JB):                0.668\n",
       "Kurtosis:             2.929        Condition No.:           3    \n",
       "=================================================================\n",
       "\n",
       "\"\"\""
      ]
     },
     "execution_count": 13,
     "metadata": {},
     "output_type": "execute_result"
    }
   ],
   "source": [
    "lm.summary2()"
   ]
  }
 ],
 "metadata": {
  "kernelspec": {
   "display_name": "Python 3",
   "language": "python",
   "name": "python3"
  },
  "language_info": {
   "codemirror_mode": {
    "name": "ipython",
    "version": 3
   },
   "file_extension": ".py",
   "mimetype": "text/x-python",
   "name": "python",
   "nbconvert_exporter": "python",
   "pygments_lexer": "ipython3",
   "version": "3.7.12"
  },
  "papermill": {
   "default_parameters": {},
   "duration": 14.241346,
   "end_time": "2023-04-15T15:01:26.460825",
   "environment_variables": {},
   "exception": null,
   "input_path": "__notebook__.ipynb",
   "output_path": "__notebook__.ipynb",
   "parameters": {},
   "start_time": "2023-04-15T15:01:12.219479",
   "version": "2.4.0"
  }
 },
 "nbformat": 4,
 "nbformat_minor": 5
}
